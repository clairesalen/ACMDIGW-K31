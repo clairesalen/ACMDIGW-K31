{
  "nbformat": 4,
  "nbformat_minor": 0,
  "metadata": {
    "colab": {
      "provenance": [],
      "mount_file_id": "1cWCN2gWJ5lV7vSRaCKoeTBq8F6zQoNCr",
      "authorship_tag": "ABX9TyMGVmDK1GwbX+sysN+HS97y",
      "include_colab_link": true
    },
    "kernelspec": {
      "name": "python3",
      "display_name": "Python 3"
    },
    "language_info": {
      "name": "python"
    }
  },
  "cells": [
    {
      "cell_type": "markdown",
      "metadata": {
        "id": "view-in-github",
        "colab_type": "text"
      },
      "source": [
        "<a href=\"https://colab.research.google.com/github/clairesalen/ACMDIGW-K31/blob/main/extracting_and_saving__data.ipynb\" target=\"_parent\"><img src=\"https://colab.research.google.com/assets/colab-badge.svg\" alt=\"Open In Colab\"/></a>"
      ]
    },
    {
      "cell_type": "code",
      "execution_count": null,
      "metadata": {
        "id": "ZKJvEc2bjQLC"
      },
      "outputs": [],
      "source": [
        "# this is a comment and it will not run as a code\n",
        "# most used short keys\n",
        "# crtl + / = turn line into a comment\n",
        "# crtl + enter = run code\n",
        "# crtl + m, b = add a new code line below\n",
        "# crtl + m, a = add a new code line below\n",
        "# crtl + m, m = turn code block into a text block\n",
        "# crtl + m, y = turn text block into a code block"
      ]
    },
    {
      "cell_type": "code",
      "source": [
        "# install packages\n",
        "!pip install yelpapi # Tutorial on how to work on Yelp API code by code: https://github.com/lanl/yelpapi"
      ],
      "metadata": {
        "colab": {
          "base_uri": "https://localhost:8080/"
        },
        "id": "TYY9qaPinZ6x",
        "outputId": "f0ab98cb-94dc-493d-be33-3b22d2e37a84"
      },
      "execution_count": null,
      "outputs": [
        {
          "output_type": "stream",
          "name": "stdout",
          "text": [
            "Requirement already satisfied: yelpapi in /usr/local/lib/python3.10/dist-packages (2.5.1)\n",
            "Requirement already satisfied: requests in /usr/local/lib/python3.10/dist-packages (from yelpapi) (2.31.0)\n",
            "Requirement already satisfied: charset-normalizer<4,>=2 in /usr/local/lib/python3.10/dist-packages (from requests->yelpapi) (3.3.2)\n",
            "Requirement already satisfied: idna<4,>=2.5 in /usr/local/lib/python3.10/dist-packages (from requests->yelpapi) (3.6)\n",
            "Requirement already satisfied: urllib3<3,>=1.21.1 in /usr/local/lib/python3.10/dist-packages (from requests->yelpapi) (2.0.7)\n",
            "Requirement already satisfied: certifi>=2017.4.17 in /usr/local/lib/python3.10/dist-packages (from requests->yelpapi) (2024.2.2)\n"
          ]
        }
      ]
    },
    {
      "cell_type": "code",
      "source": [
        "# standard imports\n",
        "import pandas as pd\n",
        "import numpy as np\n",
        "import matplotlib.pyplot as plt\n",
        "import seaborn as sns\n",
        "\n",
        "# additional imports\n",
        "import os, json, math, time\n",
        "from yelpapi import yelpapi\n",
        "from tqdm.notebook import tqdm_notebook"
      ],
      "metadata": {
        "id": "VKLrLWOsodMR"
      },
      "execution_count": null,
      "outputs": []
    },
    {
      "cell_type": "code",
      "source": [
        "# 1. Accessing json so that you have the original data\n",
        "current_working_directory = os.getcwd() # Gets the current location of this notebook\n",
        "my_json_file_name = \"yelp-api.json\" # Gets the file name that you stored your API keys and other important and secret info in\n",
        "my_json_file_path = current_working_directory + \"/\" + my_json_file_name # Puts /current/location/string plus the actual file name\n",
        "\n",
        "my_json_file = open(my_json_file_path) # Does your file exist? If it does, open it up, bitch\n",
        "yelp = json.load(my_json_file) # Now that it is opened, let's place all the data somewhere\n",
        "api_key = yelp[\"api_key\"] #test\n"
      ],
      "metadata": {
        "id": "7Uq7ZGw2N-Fh"
      },
      "execution_count": null,
      "outputs": []
    },
    {
      "cell_type": "code",
      "source": [
        "# 2. Using the yelp variable somewhere\n",
        "\n",
        "# This is copied from their official GitHub guide lmao, https://github.com/lanl/yelpapi\n",
        "from yelpapi import YelpAPI # from the YelpAPI library, please get \"yelpapi\"\n",
        "\n",
        "with YelpAPI(api_key) as yelp_api: # with YelpAPI, use yelp_api that is just YelpAPI with your actual api_key\n",
        "\n",
        "    # using the variable yelp_api, search for \"fast foods\" in \"vito cruz\", sorted by \"rating\", and only \"5\" results pls\n",
        "    # then, place them inside \"response\"\n",
        "    response = yelp_api.search_query(\n",
        "        term='fast food',\n",
        "        location='manila, vito cruz, philippines',\n",
        "        sort_by='rating',\n",
        "        limit=5\n",
        "      )\n",
        "\n",
        "    # For each \"business\" in response, please show that business\n",
        "    for business in response[\"businesses\"]:\n",
        "      print(business)\n"
      ],
      "metadata": {
        "colab": {
          "base_uri": "https://localhost:8080/"
        },
        "id": "vOMYQHx0TFsf",
        "outputId": "57f210a0-9e63-4a3b-e7d9-2fb36649cf54"
      },
      "execution_count": null,
      "outputs": [
        {
          "output_type": "stream",
          "name": "stdout",
          "text": [
            "{'id': '4l6f44Ce1eGavuCOM1oobQ', 'alias': 'jus-and-jerrys-manila', 'name': \"Jus & Jerry's\", 'image_url': 'https://s3-media2.fl.yelpcdn.com/bphoto/ZzqDPUGcL-VqsD34fWaWJg/o.jpg', 'is_closed': False, 'url': 'https://www.yelp.com/biz/jus-and-jerrys-manila?adjust_creative=4oWoerXkXjnEguKvoO7d0g&utm_campaign=yelp_api_v3&utm_medium=api_v3_business_search&utm_source=4oWoerXkXjnEguKvoO7d0g', 'review_count': 4, 'categories': [{'alias': 'hotdogs', 'title': 'Fast Food'}, {'alias': 'chinese', 'title': 'Chinese'}], 'rating': 4.8, 'coordinates': {'latitude': 14.565894, 'longitude': 120.992965}, 'transactions': [], 'location': {'address1': 'Unit 111, G/F, Egi Taft Tower,', 'address2': 'Taft Avenue', 'address3': None, 'city': 'Manila', 'zip_code': '1004', 'country': 'PH', 'state': 'NCR', 'display_address': ['Unit 111, G/F, Egi Taft Tower,', 'Taft Avenue', 'Manila, 1004 Metro Manila', 'Philippines']}, 'phone': '+6323138601', 'display_phone': '+63 23138601', 'distance': 450.15221831672477}\n",
            "{'id': 'gdHZ6C0REEj0llMcfJTRpw', 'alias': 'maxs-restaurant-manila-14', 'name': \"Max's Restaurant\", 'image_url': 'https://s3-media1.fl.yelpcdn.com/bphoto/-UH9t-WC154jfwVzZt75Cg/o.jpg', 'is_closed': False, 'url': 'https://www.yelp.com/biz/maxs-restaurant-manila-14?adjust_creative=4oWoerXkXjnEguKvoO7d0g&utm_campaign=yelp_api_v3&utm_medium=api_v3_business_search&utm_source=4oWoerXkXjnEguKvoO7d0g', 'review_count': 14, 'categories': [{'alias': 'filipino', 'title': 'Filipino'}, {'alias': 'chickenshop', 'title': 'Chicken Shop'}, {'alias': 'burgers', 'title': 'Burgers'}], 'rating': 4.5, 'coordinates': {'latitude': 14.57472, 'longitude': 120.98023}, 'transactions': [], 'price': '₱₱', 'location': {'address1': '998 Roxas Boulevard', 'address2': 'Malate', 'address3': '', 'city': 'Manila', 'zip_code': '1004', 'country': 'PH', 'state': 'NCR', 'display_address': ['998 Roxas Boulevard', 'Malate', 'Manila, 1004 Metro Manila', 'Philippines']}, 'phone': '+6324043556', 'display_phone': '+63 24043556', 'distance': 1503.9509051103162}\n",
            "{'id': 'Srfje6hcJza08vV6jw3GLA', 'alias': 'chomp-chomp-manila', 'name': 'Chomp Chomp', 'image_url': 'https://s3-media3.fl.yelpcdn.com/bphoto/GAKks4SiwSkDtq53DvEpXQ/o.jpg', 'is_closed': False, 'url': 'https://www.yelp.com/biz/chomp-chomp-manila?adjust_creative=4oWoerXkXjnEguKvoO7d0g&utm_campaign=yelp_api_v3&utm_medium=api_v3_business_search&utm_source=4oWoerXkXjnEguKvoO7d0g', 'review_count': 7, 'categories': [{'alias': 'hotdogs', 'title': 'Fast Food'}, {'alias': 'asianfusion', 'title': 'Asian Fusion'}], 'rating': 4.4, 'coordinates': {'latitude': 14.565167, 'longitude': 120.994956}, 'transactions': [], 'location': {'address1': '2/F, Bellagio Residence, Leon Guinto Street', 'address2': None, 'address3': None, 'city': 'Manila', 'zip_code': None, 'country': 'PH', 'state': 'NCR', 'display_address': ['2/F, Bellagio Residence, Leon Guinto Street', 'Manila, Metro Manila', 'Philippines']}, 'phone': '', 'display_phone': '', 'distance': 267.30741371155557}\n",
            "{'id': 'm2CmkEbMtxHyCkShBU6gMg', 'alias': 'kenny-rogers-roasters-manila-3', 'name': 'Kenny Rogers Roasters', 'image_url': 'https://s3-media2.fl.yelpcdn.com/bphoto/qXHhnxleoW_wrhuGWNXc8Q/o.jpg', 'is_closed': False, 'url': 'https://www.yelp.com/biz/kenny-rogers-roasters-manila-3?adjust_creative=4oWoerXkXjnEguKvoO7d0g&utm_campaign=yelp_api_v3&utm_medium=api_v3_business_search&utm_source=4oWoerXkXjnEguKvoO7d0g', 'review_count': 4, 'categories': [{'alias': 'hotdogs', 'title': 'Fast Food'}], 'rating': 4.5, 'coordinates': {'latitude': 14.562947, 'longitude': 120.995022}, 'transactions': [], 'price': '₱', 'location': {'address1': 'Taft Avenue', 'address2': None, 'address3': None, 'city': 'Manila', 'zip_code': None, 'country': 'PH', 'state': 'NCR', 'display_address': ['Taft Avenue', 'Manila, Metro Manila', 'Philippines']}, 'phone': '+6325338888', 'display_phone': '+63 25338888', 'distance': 81.64978645469151}\n",
            "{'id': 'oVf_2YdkSj3sdMvc4Nf7ZQ', 'alias': 'tropical-hut-hamburger-makati', 'name': 'Tropical Hut Hamburger', 'image_url': 'https://s3-media3.fl.yelpcdn.com/bphoto/lCgrv0OXIZmiBQh-pHYO9w/o.jpg', 'is_closed': False, 'url': 'https://www.yelp.com/biz/tropical-hut-hamburger-makati?adjust_creative=4oWoerXkXjnEguKvoO7d0g&utm_campaign=yelp_api_v3&utm_medium=api_v3_business_search&utm_source=4oWoerXkXjnEguKvoO7d0g', 'review_count': 2, 'categories': [{'alias': 'hotdogs', 'title': 'Fast Food'}], 'rating': 5.0, 'coordinates': {'latitude': 14.560532, 'longitude': 121.013803}, 'transactions': [], 'price': '₱₱', 'location': {'address1': 'Sen. Gil Puyat Avenue', 'address2': None, 'address3': None, 'city': 'Makati', 'zip_code': None, 'country': 'PH', 'state': 'NCR', 'display_address': ['Sen. Gil Puyat Avenue', 'Makati, Metro Manila', 'Philippines']}, 'phone': '+6328446127', 'display_phone': '+63 28446127', 'distance': 1957.5641116461215}\n"
          ]
        }
      ]
    }
  ]
}